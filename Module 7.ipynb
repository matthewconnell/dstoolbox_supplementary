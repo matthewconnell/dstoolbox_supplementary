{
 "cells": [
  {
   "cell_type": "code",
   "execution_count": 1,
   "id": "7720475f-4e7b-4c30-925d-8e2ef7ce9d98",
   "metadata": {},
   "outputs": [],
   "source": [
    "import pandas as pd\n",
    "import altair as alt"
   ]
  },
  {
   "cell_type": "markdown",
   "id": "e6181ed2-d11a-4e9e-b340-5b525491f24f",
   "metadata": {},
   "source": [
    "#### How to make a new notebook"
   ]
  },
  {
   "cell_type": "markdown",
   "id": "843a392d-02f6-48e8-b0bf-3c0aa7fad339",
   "metadata": {},
   "source": [
    "#### How to convert a cell to markdown"
   ]
  },
  {
   "cell_type": "markdown",
   "id": "15a267f0-6db9-496b-90c5-d362c5816fca",
   "metadata": {},
   "source": [
    "#### Command vs. edit mode"
   ]
  },
  {
   "cell_type": "markdown",
   "id": "f4252ab9-079b-4499-adfe-e6460232b830",
   "metadata": {},
   "source": [
    "#### Ctrl-Enter vs shift-enter"
   ]
  },
  {
   "cell_type": "code",
   "execution_count": 2,
   "id": "f03d24c6-cf59-439a-a140-314581ada5b9",
   "metadata": {},
   "outputs": [],
   "source": [
    "a=10\n",
    "\n",
    "b=5"
   ]
  },
  {
   "cell_type": "markdown",
   "id": "d6fd71a1-02bc-4479-85e3-c242f8e9eb00",
   "metadata": {
    "jp-MarkdownHeadingCollapsed": true
   },
   "source": [
    "#### Delete and undelete"
   ]
  },
  {
   "cell_type": "markdown",
   "id": "3c0ff823-ee22-4f13-b274-2a9d88b98df2",
   "metadata": {},
   "source": [
    "#### New console\n",
    "- Right click on notebook name\n",
    "- Choose new console"
   ]
  },
  {
   "cell_type": "markdown",
   "id": "99c00e30-42f8-45a1-bd02-c175b08710e8",
   "metadata": {},
   "source": [
    "#### Auto-complete and docstrings\n",
    "- use tab for autocomplete (functions, variable names)\n",
    "- shift-tab for docstrings\n",
    "- right-click, select 'Show contextual help' for help"
   ]
  },
  {
   "cell_type": "code",
   "execution_count": 3,
   "id": "f4dbf1d6-3050-4f18-b118-f0eb9bff62bb",
   "metadata": {},
   "outputs": [],
   "source": [
    "test_test_test = 5"
   ]
  },
  {
   "cell_type": "code",
   "execution_count": null,
   "id": "03d8495c-c227-4de5-9c22-5fb0ea4fd24b",
   "metadata": {},
   "outputs": [],
   "source": []
  },
  {
   "cell_type": "code",
   "execution_count": null,
   "id": "a7f33b1c-5d1c-447c-9990-a328c481fb92",
   "metadata": {},
   "outputs": [],
   "source": []
  },
  {
   "cell_type": "markdown",
   "id": "20098c6e-711a-4f9c-8430-5eb8f1ccd491",
   "metadata": {},
   "source": [
    "#### Executing code cells out of order\n",
    "- Defining a variable, deleting the cell defining it, but still using it in the notebook\n",
    "- Renaming variables\n",
    "- Running cells out of order"
   ]
  },
  {
   "cell_type": "code",
   "execution_count": 4,
   "id": "1a509ed9-37b5-4fc5-9cfd-8342d0bb8bae",
   "metadata": {},
   "outputs": [],
   "source": [
    "a=1"
   ]
  },
  {
   "cell_type": "code",
   "execution_count": 5,
   "id": "97a1a6b1-44f0-4aae-9b77-7a11008d0f0e",
   "metadata": {},
   "outputs": [],
   "source": [
    "b=2"
   ]
  },
  {
   "cell_type": "code",
   "execution_count": 6,
   "id": "9d9992d3-185f-4f13-88e0-04d8674c75f1",
   "metadata": {},
   "outputs": [],
   "source": [
    "c=3"
   ]
  },
  {
   "cell_type": "code",
   "execution_count": 7,
   "id": "15381a96-8eb1-41b1-99a1-e8d9936ffdb4",
   "metadata": {},
   "outputs": [],
   "source": [
    "b=4"
   ]
  },
  {
   "cell_type": "code",
   "execution_count": 8,
   "id": "37466c1f-0ff3-4e42-82dd-d6af0722aed8",
   "metadata": {},
   "outputs": [
    {
     "data": {
      "text/plain": [
       "8"
      ]
     },
     "execution_count": 8,
     "metadata": {},
     "output_type": "execute_result"
    }
   ],
   "source": [
    "a+b+c"
   ]
  },
  {
   "cell_type": "code",
   "execution_count": null,
   "id": "24625e98-d074-475c-8360-6ae6d7e6005b",
   "metadata": {},
   "outputs": [],
   "source": []
  },
  {
   "cell_type": "code",
   "execution_count": 10,
   "id": "0d3bafbc-f010-4206-9ac7-7a3cde5493f9",
   "metadata": {},
   "outputs": [],
   "source": []
  },
  {
   "cell_type": "code",
   "execution_count": null,
   "id": "1d7223d2-f749-4837-86ea-5be1b42d5d91",
   "metadata": {},
   "outputs": [],
   "source": []
  },
  {
   "cell_type": "code",
   "execution_count": null,
   "id": "24628fe2-aa16-4893-928e-5cd50efcda05",
   "metadata": {},
   "outputs": [],
   "source": []
  },
  {
   "cell_type": "code",
   "execution_count": null,
   "id": "fcdd9c29-bdc7-41e5-ac86-058e336bc744",
   "metadata": {},
   "outputs": [],
   "source": [
    "sum=a+b+c"
   ]
  },
  {
   "cell_type": "code",
   "execution_count": 12,
   "id": "0d1b6567-8c4e-4cd3-b0b0-dd8f0e983ee2",
   "metadata": {},
   "outputs": [
    {
     "ename": "TypeError",
     "evalue": "'int' object is not callable",
     "output_type": "error",
     "traceback": [
      "\u001b[0;31m---------------------------------------------------------------------------\u001b[0m",
      "\u001b[0;31mTypeError\u001b[0m                                 Traceback (most recent call last)",
      "Cell \u001b[0;32mIn [12], line 1\u001b[0m\n\u001b[0;32m----> 1\u001b[0m \u001b[38;5;28;43msum\u001b[39;49m\u001b[43m(\u001b[49m\u001b[43ma\u001b[49m\u001b[43m,\u001b[49m\u001b[43mb\u001b[49m\u001b[43m)\u001b[49m\n",
      "\u001b[0;31mTypeError\u001b[0m: 'int' object is not callable"
     ]
    }
   ],
   "source": [
    "sum(a,b)"
   ]
  },
  {
   "cell_type": "code",
   "execution_count": null,
   "id": "00beb839-9467-4e7a-bbca-a135c6e8015c",
   "metadata": {},
   "outputs": [],
   "source": []
  },
  {
   "cell_type": "markdown",
   "id": "a0f2d88b-edf7-4b02-bc26-b9dbf37864b8",
   "metadata": {},
   "source": [
    "#### Markdown"
   ]
  },
  {
   "cell_type": "markdown",
   "id": "ea604381-f5e2-4abb-a3ec-68c4308767f7",
   "metadata": {},
   "source": [
    "# Level 1 header\n",
    "## Level 2 header\n",
    "### Level 3 header"
   ]
  },
  {
   "cell_type": "code",
   "execution_count": 1,
   "id": "f3b6f142-f698-43c1-ac70-0a9bf90c33b6",
   "metadata": {},
   "outputs": [],
   "source": [
    "# blah blah blah"
   ]
  },
  {
   "cell_type": "markdown",
   "id": "58fa4472-7cb9-4c14-9d09-27099e9ad9eb",
   "metadata": {},
   "source": [
    "> Quote\n",
    ">\n",
    "> End quote"
   ]
  },
  {
   "cell_type": "markdown",
   "id": "7b73ed79-2b52-417b-a6c3-830933e22253",
   "metadata": {},
   "source": [
    "- unnumbered list item 1\n",
    "- unnumbered list item 2\n",
    "- unnumbered list item 3\n",
    "- unnumbered list item 4\n",
    "- unnumbered list item 5\n",
    "- unnumbered list item 6\n",
    "- unnumbered list item 7"
   ]
  },
  {
   "cell_type": "markdown",
   "id": "7cf10c50-86c1-4713-a0a6-bf2e4a60fb9b",
   "metadata": {},
   "source": [
    "  \n",
    "1. numbered list item 1\n",
    "2. something new\n",
    "4. numbered list item 2\n",
    "4. numbered list item 3\n",
    "4. numbered list item 4\n",
    "6. numbered list item 5\n"
   ]
  },
  {
   "cell_type": "markdown",
   "id": "f2a1508b-1f2e-4941-ac3a-d45836913feb",
   "metadata": {},
   "source": [
    "Use\n",
    "two\n",
    "blank\n",
    "lines\n",
    "for\n",
    "a\n",
    "line\n",
    "break"
   ]
  },
  {
   "cell_type": "markdown",
   "id": "c616e9fc-b525-43bc-85d2-7feb5eea5849",
   "metadata": {},
   "source": [
    "#### Links\n",
    "\n",
    "[Link to website](https://www.ubc.ca/)\n",
    "\n",
    "[https://www.google.com](https://www.ubc.ca/)\n",
    "\n",
    "![alt-text](https://www.plantingtree.com/cdn/shop/products/2535_600x600.jpg?v=1614202446)"
   ]
  },
  {
   "cell_type": "markdown",
   "id": "54518feb-9eaa-4a99-abef-cfdeb5960eb6",
   "metadata": {},
   "source": [
    "Code and code formatting\n",
    "\n",
    "```python\n",
    "import pandas\n",
    "pd.read_csv('data.csv')\n",
    "```"
   ]
  },
  {
   "cell_type": "markdown",
   "id": "7341db08-7ec3-4172-8b02-1c8927e1cb7c",
   "metadata": {},
   "source": [
    "#### HTML\n",
    "\n",
    "<img src=\"https://www.plantingtree.com/cdn/shop/products/2535_600x600.jpg?v=1614202446\" width=100></img>\n",
    "\n",
    "<img src=\"https://www.plantingtree.com/cdn/shop/products/2535_600x600.jpg?v=1614202446\" width=10%></img>\n",
    "\n"
   ]
  },
  {
   "cell_type": "markdown",
   "id": "380d1513-6823-424c-a14a-40d383016e16",
   "metadata": {},
   "source": [
    "\n"
   ]
  },
  {
   "cell_type": "markdown",
   "id": "304026ae-12fb-424f-882f-4d3c6ab832d8",
   "metadata": {},
   "source": [
    "#### New view for notebook\n",
    "- right-click title of notebook; select new view\n",
    "- Create new view for output:\n",
    "    - Create new view (right-click on cell)\n",
    "    - Render side-by-side (select View > Render side-by-side)"
   ]
  },
  {
   "cell_type": "code",
   "execution_count": 23,
   "id": "f6b64650-0ac8-405c-9e1c-346239af35b7",
   "metadata": {},
   "outputs": [
    {
     "name": "stdout",
     "output_type": "stream",
     "text": [
      "0^2 is equal to 0\n",
      "1^2 is equal to 1\n",
      "2^2 is equal to 4\n",
      "3^2 is equal to 9\n",
      "4^2 is equal to 16\n",
      "5^2 is equal to 25\n",
      "6^2 is equal to 36\n",
      "7^2 is equal to 49\n",
      "8^2 is equal to 64\n",
      "9^2 is equal to 81\n",
      "10^2 is equal to 100\n",
      "11^2 is equal to 121\n",
      "12^2 is equal to 144\n",
      "13^2 is equal to 169\n",
      "14^2 is equal to 196\n",
      "15^2 is equal to 225\n",
      "16^2 is equal to 256\n",
      "17^2 is equal to 289\n",
      "18^2 is equal to 324\n",
      "19^2 is equal to 361\n"
     ]
    }
   ],
   "source": [
    "for i in range(0, 20):\n",
    "    print(f'{i}^2 is equal to {i**2}')"
   ]
  },
  {
   "cell_type": "markdown",
   "id": "d2e88fc8-0417-4a5e-aa4a-87132399e28a",
   "metadata": {},
   "source": [
    "### Running shell commands\n",
    "\n",
    "Preface with !"
   ]
  },
  {
   "cell_type": "markdown",
   "id": "4155fa67-0dbc-4eaa-8049-fd8d74a7637b",
   "metadata": {},
   "source": [
    "### Magic"
   ]
  },
  {
   "cell_type": "code",
   "execution_count": 1,
   "id": "301b1de2-82d1-4114-a4ac-381a4547f7a5",
   "metadata": {},
   "outputs": [
    {
     "name": "stdout",
     "output_type": "stream",
     "text": [
      "108 ms ± 3.15 ms per loop (mean ± std. dev. of 7 runs, 10 loops each)\n"
     ]
    }
   ],
   "source": [
    "%%timeit\n",
    "\n",
    "for i in range(0, 1_000_000):\n",
    "    (i-0.1)**2"
   ]
  },
  {
   "cell_type": "markdown",
   "id": "41528674-37e3-4fb4-91a6-464466fbca7d",
   "metadata": {},
   "source": [
    "#### Multiple cursors\n",
    "\n",
    "All work and no play makes Jack a dull boy\n",
    "All work and no play makes Jack a dull boy\n",
    "All work and no play makes Jack a dull boy\n",
    "All work and no play makes Jack a dull boy\n",
    "All work and no play makes Jack a dull boy\n",
    "All work and no play makes Jack a dull boy\n",
    "All work and no play makes Jack a dull boy\n",
    "All work and no play makes Jack a dull boy\n",
    "All work and no play makes Jack a dull boy\n",
    "All work and no play makes Jack a dull boy"
   ]
  },
  {
   "cell_type": "code",
   "execution_count": null,
   "id": "8fa91a26-bc3c-45ed-bd56-4e91fa8c94ed",
   "metadata": {},
   "outputs": [],
   "source": []
  },
  {
   "cell_type": "code",
   "execution_count": null,
   "id": "35884cae-38ac-4059-bfc7-90a8f9c2fc66",
   "metadata": {},
   "outputs": [],
   "source": []
  }
 ],
 "metadata": {
  "kernelspec": {
   "display_name": "Python 3 (ipykernel)",
   "language": "python",
   "name": "python3"
  },
  "language_info": {
   "codemirror_mode": {
    "name": "ipython",
    "version": 3
   },
   "file_extension": ".py",
   "mimetype": "text/x-python",
   "name": "python",
   "nbconvert_exporter": "python",
   "pygments_lexer": "ipython3",
   "version": "3.9.0"
  }
 },
 "nbformat": 4,
 "nbformat_minor": 5
}
